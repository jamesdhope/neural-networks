{
 "cells": [
  {
   "cell_type": "code",
   "execution_count": 1,
   "metadata": {
    "collapsed": true
   },
   "outputs": [],
   "source": [
    "import tensorflow as tf\n",
    "import numpy.random as rnd\n",
    "import numpy as np"
   ]
  },
  {
   "cell_type": "code",
   "execution_count": 2,
   "metadata": {
    "collapsed": true
   },
   "outputs": [],
   "source": [
    "# To plot pretty figures\n",
    "%matplotlib inline\n",
    "import matplotlib\n",
    "import matplotlib.pyplot as plt"
   ]
  },
  {
   "cell_type": "code",
   "execution_count": 3,
   "metadata": {
    "collapsed": true
   },
   "outputs": [],
   "source": [
    "# to make this notebook's output stable across runs\n",
    "def reset_graph(seed=42):\n",
    "    tf.reset_default_graph()\n",
    "    tf.set_random_seed(seed)\n",
    "    np.random.seed(seed)"
   ]
  },
  {
   "cell_type": "code",
   "execution_count": 4,
   "metadata": {
    "collapsed": true
   },
   "outputs": [],
   "source": [
    "reset_graph()\n",
    "\n",
    "#CONSTRUCTION PHASE\n",
    "n_steps = 14\n",
    "n_inputs = 1 \n",
    "n_neurons = 100\n",
    "n_outputs = 1\n",
    "n_layers = 2\n",
    "\n",
    "learning_rate = 0.001\n",
    "\n",
    "X = tf.placeholder(tf.float32, [None, n_steps, n_inputs])\n",
    "\n",
    "#y has the same shape\n",
    "y = tf.placeholder(tf.float32, [None, n_steps, n_outputs])\n",
    "\n",
    "#create the cells and the layers of the network\n",
    "layers = [tf.contrib.rnn.OutputProjectionWrapper(tf.contrib.rnn.BasicRNNCell(num_units=n_neurons, activation=tf.nn.relu),output_size=n_outputs) for layer in range(n_layers)]\n",
    "multi_layer_cell = tf.contrib.rnn.MultiRNNCell(layers, state_is_tuple=True)\n",
    "outputs, states = tf.nn.dynamic_rnn(multi_layer_cell,X,dtype=tf.float32)\n",
    "\n",
    "#define the cost function and optimization\n",
    "loss = tf.reduce_mean(tf.square(outputs - y))\n",
    "optimizer = tf.train.AdamOptimizer(learning_rate=learning_rate)\n",
    "training_op = optimizer.minimize(loss)\n",
    "\n",
    "#Adds an op to initialize all variables in the model\n",
    "init = tf.global_variables_initializer()"
   ]
  },
  {
   "cell_type": "code",
   "execution_count": 5,
   "metadata": {
    "scrolled": false
   },
   "outputs": [
    {
     "name": "stdout",
     "output_type": "stream",
     "text": [
      "(798,)\n",
      "(798,)\n"
     ]
    },
    {
     "data": {
      "image/png": "[encoded data removed]",
      "text/plain": [
       "<matplotlib.figure.Figure at 0x110ab73c8>"
      ]
     },
     "metadata": {},
     "output_type": "display_data"
    }
   ],
   "source": [
    "#Import training data\n",
    "import numpy as np\n",
    "import random\n",
    "\n",
    "#Let's create some predictable data!\n",
    "#X_test = np.arange(0, 81, 1/0.1).astype(int)\n",
    "x = np.linspace(0, 40, int((80)/0.1))\n",
    "\n",
    "#X_test = np.linspace(12.2, 12.2 + (n_steps + 1), n_steps + 1)\n",
    "plt.plot(x, (((x * np.sin(x)) / 3) + (2 * np.sin(x*5))))\n",
    "\n",
    "X_test = (((x * np.sin(x)) / 3) + (2 * np.sin(x*5)))\n",
    "#X_test = (X_test * 2).astype(int)\n",
    "#plt.plot(X_test)\n",
    "Y_test = X_test[1:]\n",
    "X_test = X_test[:-2] #strip out last 2 from X_test\n",
    "Y_test = Y_test[:-1] #strip out last 1 from Y_test \n",
    "\n",
    "#print(\"X_test\",X_test)\n",
    "#print(\"Y_test\", Y_test)\n",
    "print(X_test.shape)\n",
    "print(Y_test.shape)\n",
    "Y_test = Y_test.reshape((-1, n_steps, n_inputs))\n",
    "X_test = X_test.reshape((-1, n_steps, n_inputs))"
   ]
  },
  {
   "cell_type": "code",
   "execution_count": 6,
   "metadata": {},
   "outputs": [
    {
     "name": "stdout",
     "output_type": "stream",
     "text": [
      "RNN construction n_layers 2 n_neurons 100 n_inputs 1 n_outputs 1\n",
      "training dataset shape (57, 14, 1) instances 57 batch_size 50\n",
      "training with n_epochs 500 iterations (instances // batch_size) 1\n",
      "epoch 0 iteration 0 \tMSE: 27.3453\n",
      "epoch 100 iteration 0 \tMSE: 1.11096\n",
      "epoch 200 iteration 0 \tMSE: 0.105353\n",
      "epoch 300 iteration 0 \tMSE: 0.0304361\n",
      "epoch 400 iteration 0 \tMSE: 0.0247568\n"
     ]
    }
   ],
   "source": [
    "#TRAINING PHASE\n",
    "import tensorflow as tf\n",
    "import numpy\n",
    "\n",
    "n_epochs = 500\n",
    "batch_size = 50\n",
    "instances = X_test.shape[0]\n",
    "saver = tf.train.Saver()\n",
    "\n",
    "print(\"RNN construction\", \"n_layers\", n_layers, \"n_neurons\", n_neurons, \"n_inputs\", n_inputs, \"n_outputs\", n_outputs)\n",
    "print(\"training dataset\", \"shape\", X_test.shape, \"instances\", instances, \"batch_size\", batch_size)\n",
    "print(\"training with\", \"n_epochs\", n_epochs, \"iterations (instances // batch_size)\", (instances//batch_size))\n",
    "\n",
    "#open a TensorFlow Session\n",
    "with tf.Session() as sess:\n",
    "    init.run()\n",
    "    \n",
    "    #Epoch is a single pass through the entire training set, followed by testing of the verification set.\n",
    "    for epoch in range(n_epochs):\n",
    "    \n",
    "        #print(\"X_test\",X_test)\n",
    "        idxs = numpy.random.permutation(instances) #shuffled ordering\n",
    "        X_random = X_test[idxs]\n",
    "        Y_random = Y_test[idxs]\n",
    "    \n",
    "        #Number of batches, here we exhaust the training set\n",
    "        for iteration in range(instances // batch_size):   \n",
    "\n",
    "            #get the next batch - we permute the examples in each batch\n",
    "            X_batch = X_random[iteration * batch_size:(iteration+1) * batch_size]\n",
    "            y_batch = Y_random[(iteration * batch_size):((iteration+1) * batch_size)]\n",
    "                        \n",
    "            X_batch = X_batch.reshape((-1, n_steps, 1))\n",
    "            y_batch = y_batch.reshape((-1, n_steps, 1))\n",
    "        \n",
    "            #feed in the batch\n",
    "            sess.run(training_op, feed_dict={X: X_batch, y: y_batch})\n",
    "        \n",
    "            if (epoch % 100 == 0 and iteration == 0):\n",
    "                #check contents of first example in each batch\n",
    "                #print(\"iteration\", iteration, \"X_batch\", X_batch[0])\n",
    "                #print(\"iteration\", iteration, \"y_batch\", y_batch[0])\n",
    "                mse = loss.eval(feed_dict={X:X_batch, y:y_batch})\n",
    "                print(\"epoch\", epoch, \"iteration\", iteration, \"\\tMSE:\", mse)\n",
    "    \n",
    "    saver.save(sess, \"./my_model\") "
   ]
  },
  {
   "cell_type": "code",
   "execution_count": 7,
   "metadata": {},
   "outputs": [
    {
     "name": "stdout",
     "output_type": "stream",
     "text": [
      "INFO:tensorflow:Restoring parameters from ./my_model\n"
     ]
    }
   ],
   "source": [
    "#Sequence generation using the model\n",
    "with tf.Session() as sess:                        \n",
    "    saver.restore(sess, \"./my_model\") \n",
    "\n",
    "    sequence = [0] * n_steps\n",
    "    for iteration in range(300):\n",
    "        X_batch = np.array(sequence[-n_steps:]).reshape(1, n_steps, 1)\n",
    "        y_pred = sess.run(outputs, feed_dict={X: X_batch})\n",
    "        sequence.append(y_pred[0, -1, 0])"
   ]
  },
  {
   "cell_type": "code",
   "execution_count": 8,
   "metadata": {},
   "outputs": [
    {
     "data": {
      "image/png": "[encoded data removed]",
      "text/plain": [
       "<matplotlib.figure.Figure at 0x114939fd0>"
      ]
     },
     "metadata": {},
     "output_type": "display_data"
    }
   ],
   "source": [
    "plt.figure(figsize=(8,4))\n",
    "plt.plot(np.arange(len(sequence)), sequence, \"b-\")\n",
    "plt.plot(x[:n_steps], sequence[:n_steps], \"b-\", linewidth=3)\n",
    "plt.xlabel(\"Time\")\n",
    "plt.ylabel(\"Value\")\n",
    "plt.show()"
   ]
  },
  {
   "cell_type": "code",
   "execution_count": null,
   "metadata": {
    "collapsed": true
   },
   "outputs": [],
   "source": []
  }
 ],
 "metadata": {
  "kernelspec": {
   "display_name": "Python 3",
   "language": "python",
   "name": "python3"
  },
  "language_info": {
   "codemirror_mode": {
    "name": "ipython",
    "version": 3
   },
   "file_extension": ".py",
   "mimetype": "text/x-python",
   "name": "python",
   "nbconvert_exporter": "python",
   "pygments_lexer": "ipython3",
   "version": "3.6.1"
  }
 },
 "nbformat": 4,
 "nbformat_minor": 2
}
