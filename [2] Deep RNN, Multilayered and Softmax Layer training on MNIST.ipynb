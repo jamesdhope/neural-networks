{
 "cells": [
  {
   "cell_type": "code",
   "execution_count": 1,
   "metadata": {
    "collapsed": true
   },
   "outputs": [],
   "source": [
    "import tensorflow as tf\n",
    "import numpy.random as rnd"
   ]
  },
  {
   "cell_type": "code",
   "execution_count": 2,
   "metadata": {},
   "outputs": [
    {
     "name": "stderr",
     "output_type": "stream",
     "text": [
      "/Library/Frameworks/Python.framework/Versions/3.6/lib/python3.6/site-packages/tensorflow/python/ops/gradients_impl.py:93: UserWarning: Converting sparse IndexedSlices to a dense Tensor of unknown shape. This may consume a large amount of memory.\n",
      "  \"Converting sparse IndexedSlices to a dense Tensor of unknown shape. \"\n"
     ]
    }
   ],
   "source": [
    "#CONSTRUCTION PHASE\n",
    "n_steps = 28\n",
    "n_inputs = 28 #28 features, 1 per pixel\n",
    "n_neurons = 150\n",
    "n_outputs = 10\n",
    "n_layers = 3\n",
    "\n",
    "learning_rate = 0.001\n",
    "\n",
    "#create input and output placeholders\n",
    "#X has shape [    t = 0              t = 1          t = 28 (n_steps)\n",
    "#             [[x1,x2,...,x28],[x1,x2,...,x28],...,[x1,x2,...,x28]]  instance 1\n",
    "#             [[x1,x2,...,x28],[x1,x2,...,x28],...,[x1,x2,...,x28]]  instance 2\n",
    "#             [[x1,x2,...,x28],[x1,x2,...,x28],...,[x1,x2,...,x28]]  instance 3\n",
    "#             ...\n",
    "#             [[x1,x2,...,x28],[x1,x2,...,x28],...,[x1,x2,...,x28]]  total instances in batch (None | Undefined)\n",
    "#            ]\n",
    "X = tf.placeholder(tf.float32, [None, n_steps, n_inputs])\n",
    "\n",
    "#Y is an integer 0 - 9\n",
    "y = tf.placeholder(tf.int32, [None])\n",
    "\n",
    "#create the cells and the layers of the network\n",
    "layers = [tf.contrib.rnn.BasicRNNCell(num_units=n_neurons) for layer in range(n_layers)]\n",
    "multi_layer_cell = tf.contrib.rnn.MultiRNNCell(layers, state_is_tuple=True)\n",
    "outputs, states = tf.nn.dynamic_rnn(multi_layer_cell, X, dtype=tf.float32)\n",
    "\n",
    "#For classification, we only want the output activation at the last time step so we use 'outputs' \n",
    "#We transpose so that the time axis is first and use tf.gather() for selecting the last index, x28. \n",
    "\n",
    "#X has shape [    instance 1       instance 2      instance n (150)\n",
    "#             [[x1,x2,...,x28],[x1,x2,...,x28],...,[x1,x2,...,x28]]  t = 0\n",
    "#             [[x1,x2,...,x28],[x1,x2,...,x28],...,[x1,x2,...,x28]]  t = 1\n",
    "#             [[x1,x2,...,x28],[x1,x2,...,x28],...,[x1,x2,...,x28]]  t = 2\n",
    "#             ...\n",
    "#             [[x1,x2,...,x28],[x1,x2,...,x28],...,[x1,x2,...,x28]]  t = 28\n",
    "#            ]\n",
    "outputs = tf.transpose(outputs, [1, 0, 2])\n",
    "\n",
    "#gather the final values across t = 28\n",
    "last = tf.gather(outputs, int(outputs.get_shape()[0]) - 1)\n",
    "\n",
    "#Create Softmax layer with XEntropy \n",
    "logits = tf.layers.dense(last, n_outputs)\n",
    "xentropy = tf.nn.sparse_softmax_cross_entropy_with_logits(labels=y,logits=logits)\n",
    "\n",
    "#Compute the loss, mean xentropy score\n",
    "loss = tf.reduce_mean(xentropy)\n",
    "\n",
    "#Set the optimizer\n",
    "#Here we use Adaptive Momement Estimation which keeps track of an exponentially decaying average of past gradients\n",
    "optimizer = tf.train.AdamOptimizer(learning_rate=learning_rate)\n",
    "training_op = optimizer.minimize(loss)\n",
    "\n",
    "#Compute accuracy\n",
    "#Does the highest logit correspond to the target class?\n",
    "#in_top_k returns a 1D tensor full of boolean values\n",
    "correct = tf.nn.in_top_k(logits, y, 1)\n",
    "#We cast to floating point numbers and then take the mean to compute an accuracy score\n",
    "accuracy = tf.reduce_mean(tf.cast(correct, tf.float32))\n",
    "\n",
    "#Adds an op to initialize all variables in the model\n",
    "init = tf.global_variables_initializer()"
   ]
  },
  {
   "cell_type": "code",
   "execution_count": null,
   "metadata": {},
   "outputs": [
    {
     "name": "stdout",
     "output_type": "stream",
     "text": [
      "Extracting tmp/data/train-images-idx3-ubyte.gz\n",
      "Extracting tmp/data/train-labels-idx1-ubyte.gz\n",
      "Extracting tmp/data/t10k-images-idx3-ubyte.gz\n",
      "Extracting tmp/data/t10k-labels-idx1-ubyte.gz\n"
     ]
    }
   ],
   "source": [
    "#IMPORT MNIST DATASET\n",
    "from tensorflow.examples.tutorials.mnist import input_data\n",
    "mnist = input_data.read_data_sets(\"tmp/data/\")\n",
    "X_test = mnist.test.images.reshape((-1, n_steps, n_inputs))\n",
    "y_test = mnist.test.labels"
   ]
  },
  {
   "cell_type": "code",
   "execution_count": null,
   "metadata": {},
   "outputs": [
    {
     "name": "stdout",
     "output_type": "stream",
     "text": [
      "0 Train accuracy: 0.966667 Test accuracy: 0.9499\n",
      "1 Train accuracy: 0.986667 Test accuracy: 0.9585\n",
      "2 Train accuracy: 0.96 Test accuracy: 0.965\n",
      "3 Train accuracy: 0.986667 Test accuracy: 0.968\n",
      "4 Train accuracy: 0.96 Test accuracy: 0.9752\n",
      "5 Train accuracy: 0.973333 Test accuracy: 0.9727\n",
      "6 Train accuracy: 0.973333 Test accuracy: 0.9716\n",
      "7 Train accuracy: 0.96 Test accuracy: 0.9745\n",
      "8 Train accuracy: 1.0 Test accuracy: 0.971\n",
      "9 Train accuracy: 0.986667 Test accuracy: 0.9738\n",
      "10 Train accuracy: 0.973333 Test accuracy: 0.9753\n",
      "11 Train accuracy: 0.993333 Test accuracy: 0.9723\n",
      "12 Train accuracy: 0.986667 Test accuracy: 0.9716\n",
      "13 Train accuracy: 0.993333 Test accuracy: 0.9743\n"
     ]
    }
   ],
   "source": [
    "#TRAINING PHASE\n",
    "n_epochs = 100\n",
    "batch_size = 150\n",
    "\n",
    "#open a TensorFlow Session\n",
    "with tf.Session() as sess:\n",
    "    init.run()\n",
    "    \n",
    "    #Epoch is a single pass through the entire training set, followed by testing of the verification set.\n",
    "    for epoch in range(n_epochs):\n",
    "        #Number of batches, here we exhaust the training set\n",
    "        for iteration in range(mnist.train.num_examples // batch_size):   \n",
    "\n",
    "            #obtain batch of specified batch size\n",
    "            X_batch, y_batch = mnist.train.next_batch(batch_size) \n",
    "            \n",
    "            #reshape the array to size n_steps * n_inputs\n",
    "            X_batch = X_batch.reshape((-1, n_steps, n_inputs)) \n",
    "            \n",
    "            #feed in the batch\n",
    "            sess.run(training_op, feed_dict={X: X_batch, y: y_batch})\n",
    "        \n",
    "        #compute accuracy of RNN against Training Set and Test Set\n",
    "        acc_train = accuracy.eval(feed_dict={X: X_batch, y: y_batch})\n",
    "        acc_test = accuracy.eval(feed_dict={X: X_test, y: y_test})\n",
    "        print(epoch, \"Train accuracy:\", acc_train, \"Test accuracy:\", acc_test)"
   ]
  }
 ],
 "metadata": {
  "kernelspec": {
   "display_name": "Python 3",
   "language": "python",
   "name": "python3"
  },
  "language_info": {
   "codemirror_mode": {
    "name": "ipython",
    "version": 3
   },
   "file_extension": ".py",
   "mimetype": "text/x-python",
   "name": "python",
   "nbconvert_exporter": "python",
   "pygments_lexer": "ipython3",
   "version": "3.6.1rc1"
  }
 },
 "nbformat": 4,
 "nbformat_minor": 2
}
